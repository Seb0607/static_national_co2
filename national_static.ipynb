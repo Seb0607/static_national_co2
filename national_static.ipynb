{
 "cells": [
  {
   "cell_type": "markdown",
   "metadata": {},
   "source": [
    "## Territorial CO$_2$ emissions"
   ]
  },
  {
   "cell_type": "markdown",
   "metadata": {},
   "source": [
    "<br> Plot shows the estimated income-emissions relationship based on the national specification of the static model proposed by Bennedsen, Hillebrand and Jensen (2021)."
   ]
  },
  {
   "cell_type": "code",
   "execution_count": 24,
   "metadata": {},
   "outputs": [],
   "source": [
    "# Importing libraries\n",
    "import pickle\n",
    "import numpy as np\n",
    "import matplotlib.pyplot as plt\n",
    "import seaborn as sns; sns.set_style('darkgrid')\n",
    "\n",
    "from ipywidgets import interact\n",
    "import ipywidgets as widgets"
   ]
  },
  {
   "cell_type": "code",
   "execution_count": 25,
   "metadata": {},
   "outputs": [],
   "source": [
    "# Loading data\n",
    "infile = open('Data/x_tmp','rb')\n",
    "x_tmp = pickle.load(infile)\n",
    "infile.close()\n",
    "\n",
    "infile = open('Data/x_tmp_vec','rb')\n",
    "x_tmp_vec = pickle.load(infile)\n",
    "infile.close()\n",
    "\n",
    "infile = open('Data/y_tmp','rb')\n",
    "y_tmp = pickle.load(infile)\n",
    "infile.close()\n",
    "\n",
    "infile = open('Data/y_tmp_vec','rb')\n",
    "y_tmp_vec = pickle.load(infile)\n",
    "infile.close()\n",
    "\n",
    "infile = open('Data/all_individuals','rb')\n",
    "all_individuals = pickle.load(infile)\n",
    "infile.close()\n",
    "\n",
    "infile = open('Data/quant05','rb')\n",
    "quant05 = pickle.load(infile)\n",
    "infile.close()\n",
    "\n",
    "infile = open('Data/quant95','rb')\n",
    "quant95 = pickle.load(infile)\n",
    "infile.close()"
   ]
  },
  {
   "cell_type": "code",
   "execution_count": 26,
   "metadata": {},
   "outputs": [
    {
     "data": {
      "application/vnd.jupyter.widget-view+json": {
       "model_id": "86a90524cf2a40369e2633a5f30fe1a4",
       "version_major": 2,
       "version_minor": 0
      },
      "text/plain": [
       "interactive(children=(Dropdown(description='country', index=174, options=('ABW', 'AFG', 'AGO', 'ALB', 'ARE', '…"
      ]
     },
     "metadata": {},
     "output_type": "display_data"
    }
   ],
   "source": [
    "def plot(country):\n",
    "    plt.scatter(x_tmp[country], y_tmp[country])\n",
    "    plt.plot(x_tmp_vec[country], y_tmp_vec[country].values, color='black')\n",
    "    plt.axvspan(quant05[country], quant95[country], facecolor='black', alpha=0.1, label='.05/.95 quantile')\n",
    "    plt.xlabel('log(GDP)')\n",
    "    plt.ylabel('log(CO$_2$)')\n",
    "    plt.legend(bbox_to_anchor=(1.04,1), borderaxespad=0)    \n",
    "    plt.show()\n",
    "    \n",
    "interact(plot, country=widgets.Dropdown(options=all_individuals, value='USA'));"
   ]
  },
  {
   "cell_type": "markdown",
   "metadata": {},
   "source": [
    "Note: Shaded area represent region og highest confidence. Income is measured by the natural logarithm of per capita GDP in billions of 2005 USD (PPP). <br> CO$_2$ emissions are measured by the natural logarithm of per capita CO$_2$ emissions in millions of tonnes."
   ]
  }
 ],
 "metadata": {
  "kernelspec": {
   "display_name": "Python 3",
   "language": "python",
   "name": "python3"
  },
  "language_info": {
   "codemirror_mode": {
    "name": "ipython",
    "version": 3
   },
   "file_extension": ".py",
   "mimetype": "text/x-python",
   "name": "python",
   "nbconvert_exporter": "python",
   "pygments_lexer": "ipython3",
   "version": "3.6.10"
  }
 },
 "nbformat": 4,
 "nbformat_minor": 2
}
